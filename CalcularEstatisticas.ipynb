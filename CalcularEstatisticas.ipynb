{
  "nbformat": 4,
  "nbformat_minor": 0,
  "metadata": {
    "colab": {
      "provenance": [],
      "collapsed_sections": [],
      "authorship_tag": "ABX9TyOSrM2Rb9+X3UBtPAcY8rwg",
      "include_colab_link": true
    },
    "kernelspec": {
      "name": "python3",
      "display_name": "Python 3"
    },
    "language_info": {
      "name": "python"
    }
  },
  "cells": [
    {
      "cell_type": "markdown",
      "metadata": {
        "id": "view-in-github",
        "colab_type": "text"
      },
      "source": [
        "<a href=\"https://colab.research.google.com/github/lelemaia/CalcularEstatisticas/blob/main/CalcularEstatisticas.ipynb\" target=\"_parent\"><img src=\"https://colab.research.google.com/assets/colab-badge.svg\" alt=\"Open In Colab\"/></a>"
      ]
    },
    {
      "cell_type": "markdown",
      "source": [
        "# MEDIA ARITIMETICA"
      ],
      "metadata": {
        "id": "zzCHYF3TwJWv"
      }
    },
    {
      "cell_type": "code",
      "execution_count": null,
      "metadata": {
        "id": "Eof2oHlZwFTx"
      },
      "outputs": [],
      "source": [
        "def media_aritmetica(x):\n",
        "  N = len(x)\n",
        "\n",
        "  soma = 0\n",
        "  for i in range(0,N):\n",
        "    soma = x [i]+soma\n",
        "\n",
        "    media = soma/N\n",
        "\n",
        "  return media"
      ]
    },
    {
      "cell_type": "code",
      "source": [
        "x = [39, 38, 27, 22, 20, 17, 10, 10 ,10, 10, 7, 7, 7, 7, 6]"
      ],
      "metadata": {
        "id": "4_e7cVgswa-B"
      },
      "execution_count": null,
      "outputs": []
    },
    {
      "cell_type": "code",
      "source": [
        "media_aritmetica(x)"
      ],
      "metadata": {
        "colab": {
          "base_uri": "https://localhost:8080/"
        },
        "id": "lV2m1wpwkE2-",
        "outputId": "18ef6006-274e-4a6e-d523-f4a8937856c2"
      },
      "execution_count": null,
      "outputs": [
        {
          "output_type": "execute_result",
          "data": {
            "text/plain": [
              "15.8"
            ]
          },
          "metadata": {},
          "execution_count": 4
        }
      ]
    },
    {
      "cell_type": "markdown",
      "source": [
        "# MEDIA GEOMETRICA"
      ],
      "metadata": {
        "id": "KzzroIUZjzEO"
      }
    },
    {
      "cell_type": "code",
      "source": [
        "def media_geometrica(x):\n",
        "  N = len(x)\n",
        "\n",
        "  soma = 1\n",
        "  for i in range(0,N):\n",
        "    soma = x [i] * soma\n",
        "\n",
        "    media = soma** (1/N)\n",
        "\n",
        "  return media"
      ],
      "metadata": {
        "id": "7uBoUr6KkcUE"
      },
      "execution_count": null,
      "outputs": []
    },
    {
      "cell_type": "code",
      "source": [
        "media_geometrica(x)"
      ],
      "metadata": {
        "colab": {
          "base_uri": "https://localhost:8080/"
        },
        "id": "d2loiGdakolw",
        "outputId": "f23c8e83-6fbc-494f-f304-6ba59be5d587"
      },
      "execution_count": null,
      "outputs": [
        {
          "output_type": "execute_result",
          "data": {
            "text/plain": [
              "12.85218983525253"
            ]
          },
          "metadata": {},
          "execution_count": 8
        }
      ]
    },
    {
      "cell_type": "markdown",
      "source": [
        "# MEDIA HARMONICA"
      ],
      "metadata": {
        "id": "9CkD1LzCk26i"
      }
    },
    {
      "cell_type": "code",
      "source": [
        "def media_harmonica(x):\n",
        "  N = len(x)\n",
        "\n",
        "  soma = 0\n",
        "  for i in range(0,N):\n",
        "    soma = (1/ x [i]) + soma\n",
        "\n",
        "    media = N/soma\n",
        "\n",
        "  return media"
      ],
      "metadata": {
        "id": "eSiMa7kuk6Oy"
      },
      "execution_count": null,
      "outputs": []
    },
    {
      "cell_type": "code",
      "source": [
        "media_harmonica(x)"
      ],
      "metadata": {
        "colab": {
          "base_uri": "https://localhost:8080/"
        },
        "id": "RgpcaI0blOWw",
        "outputId": "b94d26e0-1349-4501-c2ae-8a610e9eded0"
      },
      "execution_count": null,
      "outputs": [
        {
          "output_type": "execute_result",
          "data": {
            "text/plain": [
              "10.858807403873502"
            ]
          },
          "metadata": {},
          "execution_count": 10
        }
      ]
    },
    {
      "cell_type": "markdown",
      "source": [
        "# MEDIA PONDERADA"
      ],
      "metadata": {
        "id": "U1I9hdGjrYyz"
      }
    },
    {
      "cell_type": "code",
      "source": [
        "def media_ponderada(x, w):\n",
        "  N = len(x)  #Tamanho do vetor x\n",
        "  M = len(w)  #Tamanho do vetor w\n",
        "  \n",
        "  if N == M:\n",
        "    soma_wx = 0\n",
        "    soma_w = 0\n",
        "    for i in range(0, N):\n",
        "      soma_wx = soma_wx + x[i]*w[i]\n",
        "      soma_w = soma_w + w[i]\n",
        "      \n",
        "      media = soma_wx/soma_w\n",
        "\n",
        "    else:\n",
        "      print(\"As listas não tem o mesmo tamanho\")\n",
        "    \n",
        "      \n",
        "      return media"
      ],
      "metadata": {
        "id": "IfofwSEYllA9"
      },
      "execution_count": null,
      "outputs": []
    },
    {
      "cell_type": "code",
      "source": [
        "X = [39, 38, 27, 22, 20, 17, 10, 10, 10, 10, 7, 7, 7, 7, 6]\n",
        "w = [113, 88, 58, 65, 71, 46, 36, 33, 37, 40, 24, 21, 20, 15, 20]"
      ],
      "metadata": {
        "id": "_MQ-alImlvXh"
      },
      "execution_count": null,
      "outputs": []
    },
    {
      "cell_type": "code",
      "source": [
        "media_ponderada(x, w)"
      ],
      "metadata": {
        "colab": {
          "base_uri": "https://localhost:8080/"
        },
        "id": "hZyuYNEmnHIM",
        "outputId": "d873a676-fd23-49c6-fe93-0d66c2872faa"
      },
      "execution_count": null,
      "outputs": [
        {
          "output_type": "stream",
          "name": "stdout",
          "text": [
            "As listas não tem o mesmo tamanho\n"
          ]
        },
        {
          "output_type": "execute_result",
          "data": {
            "text/plain": [
              "21.963609898107716"
            ]
          },
          "metadata": {},
          "execution_count": 57
        }
      ]
    },
    {
      "cell_type": "markdown",
      "source": [
        "# MEDIANA ***/*** MEDIA"
      ],
      "metadata": {
        "id": "AN7GwsCJp0IH"
      }
    },
    {
      "cell_type": "code",
      "source": [
        "import numpy as np"
      ],
      "metadata": {
        "id": "PQuTc87yq8IM"
      },
      "execution_count": null,
      "outputs": []
    },
    {
      "cell_type": "code",
      "source": [
        "np.median(x)"
      ],
      "metadata": {
        "id": "jHGQl4VsyEC3"
      },
      "execution_count": null,
      "outputs": []
    },
    {
      "cell_type": "code",
      "source": [
        "np.mean(x)"
      ],
      "metadata": {
        "id": "2XTekM2SyVi3"
      },
      "execution_count": null,
      "outputs": []
    },
    {
      "cell_type": "code",
      "source": [
        "X = [39, 38, 27, 22, 20, 17, 10, 10, 10, 10, 7, 7, 7, 7, 6]"
      ],
      "metadata": {
        "id": "yCH0VHMHp6Ti"
      },
      "execution_count": null,
      "outputs": []
    },
    {
      "cell_type": "markdown",
      "source": [
        "# VARIANCIA AMOSTRAL"
      ],
      "metadata": {
        "id": "Te8nLiFytKzm"
      }
    },
    {
      "cell_type": "code",
      "source": [
        "def variancia_amostral(x):\n",
        "  N = len(x)\n",
        "  media = media_aritmetica(x)\n",
        "  soma = 0\n",
        "  for i in range(0,N):\n",
        "    soma = soma + (x[i]-media)**2\n",
        "  var = soma/(N-1)\n",
        "    \n",
        "  return var"
      ],
      "metadata": {
        "id": "AQ1eRWAvteL1"
      },
      "execution_count": null,
      "outputs": []
    },
    {
      "cell_type": "code",
      "source": [
        "variancia_amostral(x)"
      ],
      "metadata": {
        "colab": {
          "base_uri": "https://localhost:8080/"
        },
        "id": "P4iDCdi1teSc",
        "outputId": "c80bbf64-0d9d-4ac1-e80b-6017030ccac8"
      },
      "execution_count": null,
      "outputs": [
        {
          "output_type": "execute_result",
          "data": {
            "text/plain": [
              "125.31428571428577"
            ]
          },
          "metadata": {},
          "execution_count": 76
        }
      ]
    },
    {
      "cell_type": "markdown",
      "source": [
        "# VARIANCIA POPULACIONAL"
      ],
      "metadata": {
        "id": "4pmRRp3ptRHd"
      }
    },
    {
      "cell_type": "code",
      "source": [
        "def variancia_populacional(x):\n",
        "  N = len(x)\n",
        "  media = media_aritmetica(x)\n",
        "  soma = 0\n",
        "  for i in range(0,N):\n",
        "    soma = soma + (x[i]-media)**2\n",
        "  var = soma/(N)\n",
        "    \n",
        "  return var"
      ],
      "metadata": {
        "id": "JvvskpJetevd"
      },
      "execution_count": null,
      "outputs": []
    },
    {
      "cell_type": "code",
      "source": [
        "variancia_populacional(x)"
      ],
      "metadata": {
        "colab": {
          "base_uri": "https://localhost:8080/"
        },
        "id": "xTlv1CrAtex0",
        "outputId": "e848a69a-dc71-4168-ba6b-c5e6d8437b49"
      },
      "execution_count": null,
      "outputs": [
        {
          "output_type": "execute_result",
          "data": {
            "text/plain": [
              "116.96000000000005"
            ]
          },
          "metadata": {},
          "execution_count": 78
        }
      ]
    },
    {
      "cell_type": "markdown",
      "source": [
        "# DESVIO PADRAO AMOSTRAL"
      ],
      "metadata": {
        "id": "kferb42mtT5j"
      }
    },
    {
      "cell_type": "code",
      "source": [
        "def desvio_padrao_amostral(x):\n",
        "  var = variancia_amostral(x)\n",
        "  dsp = var**0.5\n",
        "  return dsp"
      ],
      "metadata": {
        "id": "5adpbMQutfaN"
      },
      "execution_count": null,
      "outputs": []
    },
    {
      "cell_type": "code",
      "source": [
        "desvio_padrao_amostral(x)"
      ],
      "metadata": {
        "colab": {
          "base_uri": "https://localhost:8080/"
        },
        "id": "efogtOO5tfdU",
        "outputId": "86086387-f7ef-4f9b-f74c-424d204337fa"
      },
      "execution_count": null,
      "outputs": [
        {
          "output_type": "execute_result",
          "data": {
            "text/plain": [
              "11.194386348267857"
            ]
          },
          "metadata": {},
          "execution_count": 80
        }
      ]
    },
    {
      "cell_type": "markdown",
      "source": [
        "# DESVIO PADRAO POPULACIONAL"
      ],
      "metadata": {
        "id": "ZpRyz1z_tXH1"
      }
    },
    {
      "cell_type": "code",
      "source": [
        "def desvio_padrao_populacional(x):\n",
        "  var = variancia_populacional(x)\n",
        "  dsp = var**0.5\n",
        "  return dsp"
      ],
      "metadata": {
        "id": "mgZHJ9n1tgJN"
      },
      "execution_count": null,
      "outputs": []
    },
    {
      "cell_type": "code",
      "source": [
        "desvio_padrao_populacional(x)"
      ],
      "metadata": {
        "colab": {
          "base_uri": "https://localhost:8080/"
        },
        "id": "AIGarHXwtgMD",
        "outputId": "aaf619b3-813f-47ed-b531-e3bb5d4b8d58"
      },
      "execution_count": null,
      "outputs": [
        {
          "output_type": "execute_result",
          "data": {
            "text/plain": [
              "10.814804667676622"
            ]
          },
          "metadata": {},
          "execution_count": 82
        }
      ]
    },
    {
      "cell_type": "markdown",
      "source": [
        "# INCERTEZA DA MEDIA"
      ],
      "metadata": {
        "id": "Th7mgxLgtbTc"
      }
    },
    {
      "cell_type": "code",
      "source": [
        "def incerteza_media(x):\n",
        "  N = len(x)\n",
        "  media = media_aritmetica(x)\n",
        "  soma = 0\n",
        "  for i in range(0,N):\n",
        "    soma = soma + (x[i]-media)**2\n",
        "  var = soma/(N*(N-1))\n",
        "  erro = var**0.5\n",
        "  return erro"
      ],
      "metadata": {
        "id": "T20BunX6tgqF"
      },
      "execution_count": null,
      "outputs": []
    },
    {
      "cell_type": "code",
      "source": [
        "incerteza_media(x)"
      ],
      "metadata": {
        "colab": {
          "base_uri": "https://localhost:8080/"
        },
        "id": "FV3tDVBTtgss",
        "outputId": "469dacdb-1708-4a73-a4fa-499640f3a09b"
      },
      "execution_count": null,
      "outputs": [
        {
          "output_type": "execute_result",
          "data": {
            "text/plain": [
              "2.890378126523538"
            ]
          },
          "metadata": {},
          "execution_count": 85
        }
      ]
    }
  ]
}